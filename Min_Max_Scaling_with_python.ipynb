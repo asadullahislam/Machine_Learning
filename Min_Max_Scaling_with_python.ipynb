{
 "cells": [
  {
   "cell_type": "markdown",
   "id": "d8b0ebd8-3881-4f90-be4d-e725fb32f745",
   "metadata": {},
   "source": [
    "# Raw code"
   ]
  },
  {
   "cell_type": "code",
   "execution_count": 1,
   "id": "dcf050cb-4b1c-4bdc-b51c-d6bb02b51459",
   "metadata": {},
   "outputs": [],
   "source": [
    "def min_max_scaling(data):\n",
    "    min_val=min(data)\n",
    "    max_val=max(data)\n",
    "    scaled_data=[(x - min_val)/(max_val - min_val ) for x in data]\n",
    "    return scaled_data"
   ]
  },
  {
   "cell_type": "code",
   "execution_count": 2,
   "id": "34c8d577-714e-47e6-be36-77ba5d70619b",
   "metadata": {},
   "outputs": [
    {
     "name": "stdout",
     "output_type": "stream",
     "text": [
      "Original Data:  [1, 2, 3, 4, 5]\n",
      "Scaled data (raw) [0.0, 0.25, 0.5, 0.75, 1.0]\n"
     ]
    }
   ],
   "source": [
    "data=[1,2,3,4,5]\n",
    "scaled_data= min_max_scaling(data)\n",
    "print('Original Data: ',data)\n",
    "print('Scaled data (raw)',scaled_data)"
   ]
  },
  {
   "cell_type": "markdown",
   "id": "87d408c3-6766-4160-9629-b8de2427c75b",
   "metadata": {},
   "source": [
    "# Using Sklearn"
   ]
  },
  {
   "cell_type": "code",
   "execution_count": 6,
   "id": "c1bf9349-0f62-4977-bcd7-79a5a9100828",
   "metadata": {},
   "outputs": [],
   "source": [
    "import pandas as pd \n"
   ]
  },
  {
   "cell_type": "code",
   "execution_count": 8,
   "id": "e482ab36-d8de-4659-b34a-18d2a7c01123",
   "metadata": {},
   "outputs": [],
   "source": [
    " from sklearn.preprocessing  import MinMaxScaler"
   ]
  },
  {
   "cell_type": "code",
   "execution_count": 9,
   "id": "5e28c307-cc49-4df8-87da-793e6d21472d",
   "metadata": {},
   "outputs": [
    {
     "data": {
      "text/html": [
       "<div>\n",
       "<style scoped>\n",
       "    .dataframe tbody tr th:only-of-type {\n",
       "        vertical-align: middle;\n",
       "    }\n",
       "\n",
       "    .dataframe tbody tr th {\n",
       "        vertical-align: top;\n",
       "    }\n",
       "\n",
       "    .dataframe thead th {\n",
       "        text-align: right;\n",
       "    }\n",
       "</style>\n",
       "<table border=\"1\" class=\"dataframe\">\n",
       "  <thead>\n",
       "    <tr style=\"text-align: right;\">\n",
       "      <th></th>\n",
       "      <th>featur1</th>\n",
       "      <th>featur2</th>\n",
       "    </tr>\n",
       "  </thead>\n",
       "  <tbody>\n",
       "    <tr>\n",
       "      <th>0</th>\n",
       "      <td>1</td>\n",
       "      <td>6</td>\n",
       "    </tr>\n",
       "    <tr>\n",
       "      <th>1</th>\n",
       "      <td>5</td>\n",
       "      <td>7</td>\n",
       "    </tr>\n",
       "    <tr>\n",
       "      <th>2</th>\n",
       "      <td>10</td>\n",
       "      <td>8</td>\n",
       "    </tr>\n",
       "    <tr>\n",
       "      <th>3</th>\n",
       "      <td>4</td>\n",
       "      <td>19</td>\n",
       "    </tr>\n",
       "    <tr>\n",
       "      <th>4</th>\n",
       "      <td>5</td>\n",
       "      <td>10</td>\n",
       "    </tr>\n",
       "  </tbody>\n",
       "</table>\n",
       "</div>"
      ],
      "text/plain": [
       "   featur1  featur2\n",
       "0        1        6\n",
       "1        5        7\n",
       "2       10        8\n",
       "3        4       19\n",
       "4        5       10"
      ]
     },
     "execution_count": 9,
     "metadata": {},
     "output_type": "execute_result"
    }
   ],
   "source": [
    "data={\n",
    "    'featur1':[1,5,10,4,5],\n",
    "    'featur2':[6,7,8,19,10],\n",
    "    \n",
    "}\n",
    "df=pd.DataFrame(data)\n",
    "df.head()"
   ]
  },
  {
   "cell_type": "code",
   "execution_count": 11,
   "id": "fe277921-99e4-4def-85a3-01a4b6a97fcd",
   "metadata": {},
   "outputs": [],
   "source": [
    "scaler = MinMaxScaler()\n",
    "scaled_data=scaler.fit_transform(df)\n",
    "scaled_df=pd.DataFrame(scaled_data, columns=df.columns)"
   ]
  },
  {
   "cell_type": "code",
   "execution_count": 12,
   "id": "235dc9ff-d5d1-4c84-81f4-c210c5f37d67",
   "metadata": {},
   "outputs": [
    {
     "name": "stdout",
     "output_type": "stream",
     "text": [
      "Original DataFrame: \n",
      "   featur1  featur2\n",
      "0        1        6\n",
      "1        5        7\n",
      "2       10        8\n",
      "3        4       19\n",
      "4        5       10\n",
      "\n",
      " Scaled DataFrame :\n",
      "    featur1   featur2\n",
      "0  0.000000  0.000000\n",
      "1  0.444444  0.076923\n",
      "2  1.000000  0.153846\n",
      "3  0.333333  1.000000\n",
      "4  0.444444  0.307692\n"
     ]
    }
   ],
   "source": [
    "print('Original DataFrame: ')\n",
    "print(df)\n",
    "print('\\n Scaled DataFrame :')\n",
    "print(scaled_df)"
   ]
  }
 ],
 "metadata": {
  "kernelspec": {
   "display_name": "Python 3 (ipykernel)",
   "language": "python",
   "name": "python3"
  },
  "language_info": {
   "codemirror_mode": {
    "name": "ipython",
    "version": 3
   },
   "file_extension": ".py",
   "mimetype": "text/x-python",
   "name": "python",
   "nbconvert_exporter": "python",
   "pygments_lexer": "ipython3",
   "version": "3.11.2"
  }
 },
 "nbformat": 4,
 "nbformat_minor": 5
}
