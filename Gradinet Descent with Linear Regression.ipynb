{
 "cells": [
  {
   "cell_type": "code",
   "execution_count": 3,
   "id": "0d0855b8-01fa-4d1f-ad77-43342a223fc2",
   "metadata": {},
   "outputs": [],
   "source": [
    "import pandas as pd\n",
    "import numpy as np\n",
    "from matplotlib import pyplot as plt"
   ]
  },
  {
   "cell_type": "code",
   "execution_count": null,
   "id": "22bf931f-7d13-4332-8db6-0f24273f1b9d",
   "metadata": {},
   "outputs": [],
   "source": []
  },
  {
   "cell_type": "code",
   "execution_count": 51,
   "id": "e84406c4-d713-409f-a671-b8130562cd00",
   "metadata": {},
   "outputs": [],
   "source": [
    "df=pd.read_csv('home data.csv')"
   ]
  },
  {
   "cell_type": "code",
   "execution_count": 52,
   "id": "679bb24a-c9e4-47b0-b941-f8a5756cd69c",
   "metadata": {},
   "outputs": [
    {
     "data": {
      "text/html": [
       "<div>\n",
       "<style scoped>\n",
       "    .dataframe tbody tr th:only-of-type {\n",
       "        vertical-align: middle;\n",
       "    }\n",
       "\n",
       "    .dataframe tbody tr th {\n",
       "        vertical-align: top;\n",
       "    }\n",
       "\n",
       "    .dataframe thead th {\n",
       "        text-align: right;\n",
       "    }\n",
       "</style>\n",
       "<table border=\"1\" class=\"dataframe\">\n",
       "  <thead>\n",
       "    <tr style=\"text-align: right;\">\n",
       "      <th></th>\n",
       "      <th>x</th>\n",
       "      <th>y</th>\n",
       "    </tr>\n",
       "  </thead>\n",
       "  <tbody>\n",
       "    <tr>\n",
       "      <th>0</th>\n",
       "      <td>48.955889</td>\n",
       "      <td>60.723602</td>\n",
       "    </tr>\n",
       "    <tr>\n",
       "      <th>1</th>\n",
       "      <td>44.687196</td>\n",
       "      <td>82.892504</td>\n",
       "    </tr>\n",
       "    <tr>\n",
       "      <th>2</th>\n",
       "      <td>60.297327</td>\n",
       "      <td>97.379897</td>\n",
       "    </tr>\n",
       "    <tr>\n",
       "      <th>3</th>\n",
       "      <td>45.618644</td>\n",
       "      <td>48.847153</td>\n",
       "    </tr>\n",
       "    <tr>\n",
       "      <th>4</th>\n",
       "      <td>38.816818</td>\n",
       "      <td>56.877213</td>\n",
       "    </tr>\n",
       "  </tbody>\n",
       "</table>\n",
       "</div>"
      ],
      "text/plain": [
       "           x          y\n",
       "0  48.955889  60.723602\n",
       "1  44.687196  82.892504\n",
       "2  60.297327  97.379897\n",
       "3  45.618644  48.847153\n",
       "4  38.816818  56.877213"
      ]
     },
     "execution_count": 52,
     "metadata": {},
     "output_type": "execute_result"
    }
   ],
   "source": [
    "df.head()"
   ]
  },
  {
   "cell_type": "code",
   "execution_count": 8,
   "id": "68a1b84e-399f-42f4-9537-dddf8c693cb2",
   "metadata": {},
   "outputs": [
    {
     "data": {
      "text/html": [
       "<div>\n",
       "<style scoped>\n",
       "    .dataframe tbody tr th:only-of-type {\n",
       "        vertical-align: middle;\n",
       "    }\n",
       "\n",
       "    .dataframe tbody tr th {\n",
       "        vertical-align: top;\n",
       "    }\n",
       "\n",
       "    .dataframe thead th {\n",
       "        text-align: right;\n",
       "    }\n",
       "</style>\n",
       "<table border=\"1\" class=\"dataframe\">\n",
       "  <thead>\n",
       "    <tr style=\"text-align: right;\">\n",
       "      <th></th>\n",
       "      <th>Starting (USD)</th>\n",
       "      <th>Ending (USD)</th>\n",
       "    </tr>\n",
       "  </thead>\n",
       "  <tbody>\n",
       "    <tr>\n",
       "      <th>0</th>\n",
       "      <td>16800</td>\n",
       "      <td>16500</td>\n",
       "    </tr>\n",
       "    <tr>\n",
       "      <th>1</th>\n",
       "      <td>15900</td>\n",
       "      <td>16100</td>\n",
       "    </tr>\n",
       "    <tr>\n",
       "      <th>2</th>\n",
       "      <td>15800</td>\n",
       "      <td>15300</td>\n",
       "    </tr>\n",
       "    <tr>\n",
       "      <th>3</th>\n",
       "      <td>16100</td>\n",
       "      <td>16200</td>\n",
       "    </tr>\n",
       "    <tr>\n",
       "      <th>4</th>\n",
       "      <td>16300</td>\n",
       "      <td>15700</td>\n",
       "    </tr>\n",
       "    <tr>\n",
       "      <th>5</th>\n",
       "      <td>16800</td>\n",
       "      <td>16400</td>\n",
       "    </tr>\n",
       "    <tr>\n",
       "      <th>6</th>\n",
       "      <td>15900</td>\n",
       "      <td>16200</td>\n",
       "    </tr>\n",
       "    <tr>\n",
       "      <th>7</th>\n",
       "      <td>15800</td>\n",
       "      <td>15500</td>\n",
       "    </tr>\n",
       "    <tr>\n",
       "      <th>8</th>\n",
       "      <td>16150</td>\n",
       "      <td>16100</td>\n",
       "    </tr>\n",
       "    <tr>\n",
       "      <th>9</th>\n",
       "      <td>16300</td>\n",
       "      <td>15800</td>\n",
       "    </tr>\n",
       "    <tr>\n",
       "      <th>10</th>\n",
       "      <td>16200</td>\n",
       "      <td>16200</td>\n",
       "    </tr>\n",
       "    <tr>\n",
       "      <th>11</th>\n",
       "      <td>16300</td>\n",
       "      <td>15700</td>\n",
       "    </tr>\n",
       "  </tbody>\n",
       "</table>\n",
       "</div>"
      ],
      "text/plain": [
       "    Starting (USD)  Ending (USD)\n",
       "0            16800         16500\n",
       "1            15900         16100\n",
       "2            15800         15300\n",
       "3            16100         16200\n",
       "4            16300         15700\n",
       "5            16800         16400\n",
       "6            15900         16200\n",
       "7            15800         15500\n",
       "8            16150         16100\n",
       "9            16300         15800\n",
       "10           16200         16200\n",
       "11           16300         15700"
      ]
     },
     "execution_count": 8,
     "metadata": {},
     "output_type": "execute_result"
    }
   ],
   "source": []
  },
  {
   "cell_type": "code",
   "execution_count": 53,
   "id": "70de0f44-ec8f-454b-bfe9-d405dfeea587",
   "metadata": {},
   "outputs": [],
   "source": [
    "x=df['x']"
   ]
  },
  {
   "cell_type": "code",
   "execution_count": 60,
   "id": "579639d3-71ef-417e-ab17-1cd209a8ce29",
   "metadata": {},
   "outputs": [
    {
     "data": {
      "text/plain": [
       "x    0\n",
       "y    0\n",
       "dtype: int64"
      ]
     },
     "execution_count": 60,
     "metadata": {},
     "output_type": "execute_result"
    }
   ],
   "source": [
    "df.isnull().sum()"
   ]
  },
  {
   "cell_type": "code",
   "execution_count": 55,
   "id": "61ed6667-0fdc-40d5-9d45-7dbbbd438f4d",
   "metadata": {},
   "outputs": [],
   "source": [
    "y=df['y']"
   ]
  },
  {
   "cell_type": "code",
   "execution_count": 56,
   "id": "d511e0e7-a297-4f07-b679-4b511d7b6aef",
   "metadata": {},
   "outputs": [
    {
     "data": {
      "text/plain": [
       "0    60.723602\n",
       "1    82.892504\n",
       "2    97.379897\n",
       "3    48.847153\n",
       "4    56.877213\n",
       "Name: y, dtype: float64"
      ]
     },
     "execution_count": 56,
     "metadata": {},
     "output_type": "execute_result"
    }
   ],
   "source": [
    "y.head()"
   ]
  },
  {
   "cell_type": "markdown",
   "id": "19349374-ed6c-4278-a0b1-94e3e5e01762",
   "metadata": {},
   "source": [
    "# Gradient Descent in Machine Learning"
   ]
  },
  {
   "cell_type": "code",
   "execution_count": 61,
   "id": "cc468e86-b9d6-4a31-ac21-6e963c70d4e2",
   "metadata": {},
   "outputs": [
    {
     "name": "stdout",
     "output_type": "stream",
     "text": [
      "nan nan\n"
     ]
    }
   ],
   "source": [
    "# first step\n",
    "\n",
    "m=0\n",
    "c=0\n",
    "Learning_rate = 0.001\n",
    "n= int(len(x))\n",
    "\n",
    "iterations =1000\n",
    "\n",
    "#2nd step \n",
    "for i in range(iterations):\n",
    "    y_prediction = m * x + c\n",
    "    derivatives_m =(-2/n) * sum(x * (y -  y_prediction))\n",
    "    derivatives_c = (-2/n)* sum(y - y_prediction)\n",
    "    #final step \n",
    "    m= m - Learning_rate * derivatives_m\n",
    "    c= c - Learning_rate * derivatives_c\n",
    "   \n",
    "\n",
    "print(m,c)\n",
    "    \n",
    "\n",
    "\n"
   ]
  },
  {
   "cell_type": "code",
   "execution_count": 45,
   "id": "2e46c7ca-82b0-4929-8077-24e51329db54",
   "metadata": {},
   "outputs": [
    {
     "name": "stdout",
     "output_type": "stream",
     "text": [
      "nan nan\n"
     ]
    }
   ],
   "source": [
    "m = 0\n",
    "c = 0\n",
    "Learning_rate = 0.001\n",
    "n = len(x)\n",
    "\n",
    "iterations = 1000\n",
    "\n",
    "# Gradient Descent\n",
    "for i in range(iterations):\n",
    "    y_prediction = m * x + c\n",
    "    derivatives_m = (-2 / n) * sum(x * (y - y_prediction))\n",
    "    derivatives_c = (-2 / n) * sum(y - y_prediction)\n",
    "    # Update m and c\n",
    "    m = m - (Learning_rate * derivatives_m)\n",
    "    c = c - (Learning_rate * derivatives_c)\n",
    "\n",
    "print(m, c)\n"
   ]
  },
  {
   "cell_type": "code",
   "execution_count": null,
   "id": "0756601f-f617-46eb-8d9b-7ec2dd64f48b",
   "metadata": {},
   "outputs": [],
   "source": []
  },
  {
   "cell_type": "code",
   "execution_count": null,
   "id": "bf3a7494-7240-4f24-b9a3-819812d358c2",
   "metadata": {},
   "outputs": [],
   "source": []
  },
  {
   "cell_type": "code",
   "execution_count": null,
   "id": "e3da671b-3012-495c-a6f3-23a573b2d712",
   "metadata": {},
   "outputs": [],
   "source": []
  },
  {
   "cell_type": "code",
   "execution_count": null,
   "id": "cc3ec0de-c442-40ca-b8fb-07b9a3b74c1b",
   "metadata": {},
   "outputs": [],
   "source": []
  },
  {
   "cell_type": "code",
   "execution_count": null,
   "id": "c81ad25a-550b-4f9a-a88b-006d842a1114",
   "metadata": {},
   "outputs": [],
   "source": []
  },
  {
   "cell_type": "code",
   "execution_count": null,
   "id": "04184810-4b94-4dc2-a56f-45cff5376b65",
   "metadata": {},
   "outputs": [],
   "source": []
  },
  {
   "cell_type": "code",
   "execution_count": null,
   "id": "b72077a6-9d9a-4129-8690-af88f5413c10",
   "metadata": {},
   "outputs": [],
   "source": []
  },
  {
   "cell_type": "code",
   "execution_count": null,
   "id": "03e08495-998b-48b5-9659-3cb41d04f5f5",
   "metadata": {},
   "outputs": [],
   "source": []
  },
  {
   "cell_type": "code",
   "execution_count": null,
   "id": "ac8f4705-7fa4-4293-9f7a-43b089b14e96",
   "metadata": {},
   "outputs": [],
   "source": []
  },
  {
   "cell_type": "code",
   "execution_count": null,
   "id": "5ca7b78c-9c58-477e-804d-e9f193622e48",
   "metadata": {},
   "outputs": [],
   "source": []
  },
  {
   "cell_type": "code",
   "execution_count": null,
   "id": "f6bdae9a-b954-4856-b0fe-5f1b4bde18bd",
   "metadata": {},
   "outputs": [],
   "source": []
  },
  {
   "cell_type": "code",
   "execution_count": null,
   "id": "32dff762-5727-4882-8f99-74a719664ca4",
   "metadata": {},
   "outputs": [],
   "source": []
  }
 ],
 "metadata": {
  "kernelspec": {
   "display_name": "Python 3 (ipykernel)",
   "language": "python",
   "name": "python3"
  },
  "language_info": {
   "codemirror_mode": {
    "name": "ipython",
    "version": 3
   },
   "file_extension": ".py",
   "mimetype": "text/x-python",
   "name": "python",
   "nbconvert_exporter": "python",
   "pygments_lexer": "ipython3",
   "version": "3.11.2"
  }
 },
 "nbformat": 4,
 "nbformat_minor": 5
}
