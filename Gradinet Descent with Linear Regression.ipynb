{
 "cells": [
  {
   "cell_type": "code",
   "execution_count": 3,
   "id": "0d0855b8-01fa-4d1f-ad77-43342a223fc2",
   "metadata": {},
   "outputs": [],
   "source": [
    "import pandas as pd\n",
    "import numpy as np\n",
    "from matplotlib import pyplot as plt"
   ]
  },
  {
   "cell_type": "code",
   "execution_count": null,
   "id": "22bf931f-7d13-4332-8db6-0f24273f1b9d",
   "metadata": {},
   "outputs": [],
   "source": []
  },
  {
   "cell_type": "code",
   "execution_count": 51,
   "id": "e84406c4-d713-409f-a671-b8130562cd00",
   "metadata": {},
   "outputs": [],
   "source": [
    "df=pd.read_csv('home data.csv')"
   ]
  },
  {
   "cell_type": "code",
   "execution_count": 78,
   "id": "679bb24a-c9e4-47b0-b941-f8a5756cd69c",
   "metadata": {},
   "outputs": [
    {
     "data": {
      "text/html": [
       "<div>\n",
       "<style scoped>\n",
       "    .dataframe tbody tr th:only-of-type {\n",
       "        vertical-align: middle;\n",
       "    }\n",
       "\n",
       "    .dataframe tbody tr th {\n",
       "        vertical-align: top;\n",
       "    }\n",
       "\n",
       "    .dataframe thead th {\n",
       "        text-align: right;\n",
       "    }\n",
       "</style>\n",
       "<table border=\"1\" class=\"dataframe\">\n",
       "  <thead>\n",
       "    <tr style=\"text-align: right;\">\n",
       "      <th></th>\n",
       "      <th>x</th>\n",
       "      <th>y</th>\n",
       "    </tr>\n",
       "  </thead>\n",
       "  <tbody>\n",
       "    <tr>\n",
       "      <th>0</th>\n",
       "      <td>48.955889</td>\n",
       "      <td>60.723602</td>\n",
       "    </tr>\n",
       "    <tr>\n",
       "      <th>1</th>\n",
       "      <td>44.687196</td>\n",
       "      <td>82.892504</td>\n",
       "    </tr>\n",
       "    <tr>\n",
       "      <th>2</th>\n",
       "      <td>60.297327</td>\n",
       "      <td>97.379897</td>\n",
       "    </tr>\n",
       "    <tr>\n",
       "      <th>3</th>\n",
       "      <td>45.618644</td>\n",
       "      <td>48.847153</td>\n",
       "    </tr>\n",
       "    <tr>\n",
       "      <th>4</th>\n",
       "      <td>38.816818</td>\n",
       "      <td>56.877213</td>\n",
       "    </tr>\n",
       "    <tr>\n",
       "      <th>...</th>\n",
       "      <td>...</td>\n",
       "      <td>...</td>\n",
       "    </tr>\n",
       "    <tr>\n",
       "      <th>94</th>\n",
       "      <td>50.030174</td>\n",
       "      <td>81.536991</td>\n",
       "    </tr>\n",
       "    <tr>\n",
       "      <th>95</th>\n",
       "      <td>49.239765</td>\n",
       "      <td>72.111832</td>\n",
       "    </tr>\n",
       "    <tr>\n",
       "      <th>96</th>\n",
       "      <td>50.039576</td>\n",
       "      <td>85.232007</td>\n",
       "    </tr>\n",
       "    <tr>\n",
       "      <th>97</th>\n",
       "      <td>48.149859</td>\n",
       "      <td>66.224958</td>\n",
       "    </tr>\n",
       "    <tr>\n",
       "      <th>98</th>\n",
       "      <td>25.128485</td>\n",
       "      <td>53.454394</td>\n",
       "    </tr>\n",
       "  </tbody>\n",
       "</table>\n",
       "<p>99 rows × 2 columns</p>\n",
       "</div>"
      ],
      "text/plain": [
       "            x          y\n",
       "0   48.955889  60.723602\n",
       "1   44.687196  82.892504\n",
       "2   60.297327  97.379897\n",
       "3   45.618644  48.847153\n",
       "4   38.816818  56.877213\n",
       "..        ...        ...\n",
       "94  50.030174  81.536991\n",
       "95  49.239765  72.111832\n",
       "96  50.039576  85.232007\n",
       "97  48.149859  66.224958\n",
       "98  25.128485  53.454394\n",
       "\n",
       "[99 rows x 2 columns]"
      ]
     },
     "execution_count": 78,
     "metadata": {},
     "output_type": "execute_result"
    }
   ],
   "source": [
    "df"
   ]
  },
  {
   "cell_type": "code",
   "execution_count": 53,
   "id": "70de0f44-ec8f-454b-bfe9-d405dfeea587",
   "metadata": {},
   "outputs": [],
   "source": [
    "x=df['x']"
   ]
  },
  {
   "cell_type": "code",
   "execution_count": 60,
   "id": "579639d3-71ef-417e-ab17-1cd209a8ce29",
   "metadata": {},
   "outputs": [
    {
     "data": {
      "text/plain": [
       "x    0\n",
       "y    0\n",
       "dtype: int64"
      ]
     },
     "execution_count": 60,
     "metadata": {},
     "output_type": "execute_result"
    }
   ],
   "source": [
    "df.isnull().sum()"
   ]
  },
  {
   "cell_type": "code",
   "execution_count": 65,
   "id": "61ed6667-0fdc-40d5-9d45-7dbbbd438f4d",
   "metadata": {},
   "outputs": [],
   "source": [
    "x=df['x']\n",
    "y=df['y']"
   ]
  },
  {
   "cell_type": "code",
   "execution_count": 56,
   "id": "d511e0e7-a297-4f07-b679-4b511d7b6aef",
   "metadata": {},
   "outputs": [
    {
     "data": {
      "text/plain": [
       "0    60.723602\n",
       "1    82.892504\n",
       "2    97.379897\n",
       "3    48.847153\n",
       "4    56.877213\n",
       "Name: y, dtype: float64"
      ]
     },
     "execution_count": 56,
     "metadata": {},
     "output_type": "execute_result"
    }
   ],
   "source": [
    "y.head()"
   ]
  },
  {
   "cell_type": "markdown",
   "id": "19349374-ed6c-4278-a0b1-94e3e5e01762",
   "metadata": {},
   "source": [
    "# Gradient Descent in Machine Learning"
   ]
  },
  {
   "cell_type": "code",
   "execution_count": 85,
   "id": "bf3a7494-7240-4f24-b9a3-819812d358c2",
   "metadata": {},
   "outputs": [
    {
     "name": "stdout",
     "output_type": "stream",
     "text": [
      "1.4796491688881985 0.10148121497503648\n"
     ]
    }
   ],
   "source": [
    "#step 1\n",
    "m=0\n",
    "c=0\n",
    "Learning_rate= 0.0001\n",
    "n= int(len(x))\n",
    "\n",
    "iterations=1000\n",
    "#step 2\n",
    "for i in range(iterations):\n",
    "    y_prediction = m* x + c\n",
    "    derivatives_m = (-2/n)*sum(x*(y-y_prediction))\n",
    "    derivatives_c = (-2/n)*sum((y - y_prediction))\n",
    "\n",
    "    #final step\n",
    "    m = m - (Learning_rate *derivatives_m)\n",
    "    c = c - (Learning_rate *derivatives_c)\n",
    "  \n",
    "print(m,c)\n",
    "    "
   ]
  },
  {
   "cell_type": "markdown",
   "id": "f1c59bac-502e-4f72-bedb-c537bf1121d8",
   "metadata": {},
   "source": [
    "# Make Prediction"
   ]
  },
  {
   "cell_type": "code",
   "execution_count": 92,
   "id": "c81ad25a-550b-4f9a-a88b-006d842a1114",
   "metadata": {},
   "outputs": [
    {
     "name": "stdin",
     "output_type": "stream",
     "text": [
      "Enter any value of x:  38.816818\n"
     ]
    },
    {
     "data": {
      "text/plain": [
       "57.5367537075595"
      ]
     },
     "execution_count": 92,
     "metadata": {},
     "output_type": "execute_result"
    }
   ],
   "source": [
    "x= float(input('Enter any value of x: '))\n",
    "y = 1.4796491688881985 *x + 0.10148121497503648\n",
    "y\n"
   ]
  },
  {
   "cell_type": "code",
   "execution_count": 90,
   "id": "04184810-4b94-4dc2-a56f-45cff5376b65",
   "metadata": {},
   "outputs": [
    {
     "name": "stdout",
     "output_type": "stream",
     "text": [
      "72.53902168600794\n"
     ]
    }
   ],
   "source": [
    "y= m*x + c\n",
    "print(y)"
   ]
  },
  {
   "cell_type": "code",
   "execution_count": null,
   "id": "b72077a6-9d9a-4129-8690-af88f5413c10",
   "metadata": {},
   "outputs": [],
   "source": []
  },
  {
   "cell_type": "code",
   "execution_count": null,
   "id": "03e08495-998b-48b5-9659-3cb41d04f5f5",
   "metadata": {},
   "outputs": [],
   "source": []
  },
  {
   "cell_type": "code",
   "execution_count": null,
   "id": "ac8f4705-7fa4-4293-9f7a-43b089b14e96",
   "metadata": {},
   "outputs": [],
   "source": []
  },
  {
   "cell_type": "code",
   "execution_count": null,
   "id": "5ca7b78c-9c58-477e-804d-e9f193622e48",
   "metadata": {},
   "outputs": [],
   "source": []
  },
  {
   "cell_type": "code",
   "execution_count": null,
   "id": "f6bdae9a-b954-4856-b0fe-5f1b4bde18bd",
   "metadata": {},
   "outputs": [],
   "source": []
  },
  {
   "cell_type": "code",
   "execution_count": null,
   "id": "32dff762-5727-4882-8f99-74a719664ca4",
   "metadata": {},
   "outputs": [],
   "source": []
  }
 ],
 "metadata": {
  "kernelspec": {
   "display_name": "Python 3 (ipykernel)",
   "language": "python",
   "name": "python3"
  },
  "language_info": {
   "codemirror_mode": {
    "name": "ipython",
    "version": 3
   },
   "file_extension": ".py",
   "mimetype": "text/x-python",
   "name": "python",
   "nbconvert_exporter": "python",
   "pygments_lexer": "ipython3",
   "version": "3.11.2"
  }
 },
 "nbformat": 4,
 "nbformat_minor": 5
}
