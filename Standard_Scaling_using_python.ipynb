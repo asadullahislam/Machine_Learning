{
 "cells": [
  {
   "cell_type": "code",
   "execution_count": 1,
   "id": "879be20d-4b65-47a8-b73b-62c8c3423c51",
   "metadata": {},
   "outputs": [],
   "source": [
    "import pandas as pd"
   ]
  },
  {
   "cell_type": "code",
   "execution_count": 5,
   "id": "a613f574-c37b-4932-af7b-6a5fa624dea1",
   "metadata": {},
   "outputs": [
    {
     "data": {
      "text/html": [
       "<div>\n",
       "<style scoped>\n",
       "    .dataframe tbody tr th:only-of-type {\n",
       "        vertical-align: middle;\n",
       "    }\n",
       "\n",
       "    .dataframe tbody tr th {\n",
       "        vertical-align: top;\n",
       "    }\n",
       "\n",
       "    .dataframe thead th {\n",
       "        text-align: right;\n",
       "    }\n",
       "</style>\n",
       "<table border=\"1\" class=\"dataframe\">\n",
       "  <thead>\n",
       "    <tr style=\"text-align: right;\">\n",
       "      <th></th>\n",
       "      <th>feature1</th>\n",
       "      <th>feature2</th>\n",
       "    </tr>\n",
       "  </thead>\n",
       "  <tbody>\n",
       "    <tr>\n",
       "      <th>0</th>\n",
       "      <td>1</td>\n",
       "      <td>6</td>\n",
       "    </tr>\n",
       "    <tr>\n",
       "      <th>1</th>\n",
       "      <td>20</td>\n",
       "      <td>7</td>\n",
       "    </tr>\n",
       "    <tr>\n",
       "      <th>2</th>\n",
       "      <td>3</td>\n",
       "      <td>18</td>\n",
       "    </tr>\n",
       "    <tr>\n",
       "      <th>3</th>\n",
       "      <td>40</td>\n",
       "      <td>19</td>\n",
       "    </tr>\n",
       "    <tr>\n",
       "      <th>4</th>\n",
       "      <td>5</td>\n",
       "      <td>10</td>\n",
       "    </tr>\n",
       "  </tbody>\n",
       "</table>\n",
       "</div>"
      ],
      "text/plain": [
       "   feature1  feature2\n",
       "0         1         6\n",
       "1        20         7\n",
       "2         3        18\n",
       "3        40        19\n",
       "4         5        10"
      ]
     },
     "execution_count": 5,
     "metadata": {},
     "output_type": "execute_result"
    }
   ],
   "source": [
    "data={\n",
    "\n",
    "    'feature1':[1,20,3,40,5],\n",
    "    'feature2':[6,7,18,19,10],\n",
    "    \n",
    "}\n",
    "df=pd.DataFrame(data)\n",
    "df.head()"
   ]
  },
  {
   "cell_type": "code",
   "execution_count": 14,
   "id": "272324cb-985f-4901-9f93-4f8952ddd9c2",
   "metadata": {},
   "outputs": [],
   "source": [
    "def standardize_data(data):\n",
    "    mean= data.mean()\n",
    "    std_dev=data.std(ddof=0) # delta degree of fredom n-1\n",
    "    standardized_data_raw= (data-mean)/std_dev\n",
    "    return standardized_data_raw"
   ]
  },
  {
   "cell_type": "code",
   "execution_count": 15,
   "id": "7a0b2465-dab6-4220-bac4-9c518b171fcd",
   "metadata": {},
   "outputs": [],
   "source": [
    " standardized_df_raw= df.apply(standardize_data)"
   ]
  },
  {
   "cell_type": "code",
   "execution_count": 16,
   "id": "3e9243d2-7a97-499e-8efc-1ee09c694e82",
   "metadata": {},
   "outputs": [
    {
     "name": "stdout",
     "output_type": "stream",
     "text": [
      "Original DataFrame :\n",
      "   feature1  feature2\n",
      "0         1         6\n",
      "1        20         7\n",
      "2         3        18\n",
      "3        40        19\n",
      "4         5        10\n",
      "\n",
      " Standardized DataFrame: \n",
      "   feature1  feature2\n",
      "0 -0.869803 -1.095445\n",
      "1  0.421311 -0.912871\n",
      "2 -0.733896  1.095445\n",
      "3  1.780378  1.278019\n",
      "4 -0.597989 -0.365148\n"
     ]
    }
   ],
   "source": [
    "print(\"Original DataFrame :\")\n",
    "print(df)\n",
    "print('\\n Standardized DataFrame: ')\n",
    "print(standardized_df_raw)"
   ]
  },
  {
   "cell_type": "markdown",
   "id": "288ee4b5-5eb6-4838-b5a4-a80b22b5bf61",
   "metadata": {},
   "source": [
    "# using sklearn "
   ]
  },
  {
   "cell_type": "code",
   "execution_count": 9,
   "id": "53014559-7fde-42a7-9679-82badc8ea3b2",
   "metadata": {},
   "outputs": [],
   "source": [
    "from sklearn.preprocessing  import  StandardScaler"
   ]
  },
  {
   "cell_type": "code",
   "execution_count": 17,
   "id": "0228348d-079a-43f2-8314-25df9da22673",
   "metadata": {},
   "outputs": [
    {
     "data": {
      "text/plain": [
       "array([[-0.86980289, -1.09544512],\n",
       "       [ 0.42131078, -0.91287093],\n",
       "       [-0.73389619,  1.09544512],\n",
       "       [ 1.7803778 ,  1.2780193 ],\n",
       "       [-0.59798949, -0.36514837]])"
      ]
     },
     "execution_count": 17,
     "metadata": {},
     "output_type": "execute_result"
    }
   ],
   "source": [
    "scaler = StandardScaler()\n",
    "standardized_data = scaler.fit_transform(df)\n",
    "standardized_df = pd.DataFrame(standardized_data, columns = df.columns)\n",
    "standardized_data"
   ]
  },
  {
   "cell_type": "code",
   "execution_count": 18,
   "id": "59f791eb-1178-4a58-ba84-155221d1ebe0",
   "metadata": {},
   "outputs": [
    {
     "name": "stdout",
     "output_type": "stream",
     "text": [
      "Original DataFrame: \n",
      "   feature1  feature2\n",
      "0         1         6\n",
      "1        20         7\n",
      "2         3        18\n",
      "3        40        19\n",
      "4         5        10\n",
      "\n",
      " Standardized DataFrame : raw code \n",
      "   feature1  feature2\n",
      "0 -0.869803 -1.095445\n",
      "1  0.421311 -0.912871\n",
      "2 -0.733896  1.095445\n",
      "3  1.780378  1.278019\n",
      "4 -0.597989 -0.365148\n",
      "\n",
      " Standardized DataFrame : sklearn \n",
      "   feature1  feature2\n",
      "0 -0.869803 -1.095445\n",
      "1  0.421311 -0.912871\n",
      "2 -0.733896  1.095445\n",
      "3  1.780378  1.278019\n",
      "4 -0.597989 -0.365148\n"
     ]
    }
   ],
   "source": [
    "print('Original DataFrame: ')\n",
    "print(df)\n",
    "print('\\n Standardized DataFrame : raw code ')\n",
    "print(standardized_df_raw)\n",
    "print('\\n Standardized DataFrame : sklearn ')\n",
    "print(standardized_df)"
   ]
  },
  {
   "cell_type": "code",
   "execution_count": null,
   "id": "a18f1063-6780-4681-ba5a-adbbf6af477b",
   "metadata": {},
   "outputs": [],
   "source": []
  },
  {
   "cell_type": "code",
   "execution_count": null,
   "id": "8cc660dd-32ba-4745-b6df-d553703bcc0d",
   "metadata": {},
   "outputs": [],
   "source": []
  },
  {
   "cell_type": "code",
   "execution_count": null,
   "id": "9921cc59-6acd-4bd7-aaba-ec35f42a0f18",
   "metadata": {},
   "outputs": [],
   "source": []
  },
  {
   "cell_type": "code",
   "execution_count": null,
   "id": "71b8f20a-68c4-454c-b044-3e4b09953769",
   "metadata": {},
   "outputs": [],
   "source": []
  },
  {
   "cell_type": "code",
   "execution_count": null,
   "id": "e4bea7ff-abf7-45ce-a721-cc8457713b6a",
   "metadata": {},
   "outputs": [],
   "source": []
  },
  {
   "cell_type": "code",
   "execution_count": null,
   "id": "3b82f039-a99d-4774-9896-a3b9c692e1db",
   "metadata": {},
   "outputs": [],
   "source": []
  }
 ],
 "metadata": {
  "kernelspec": {
   "display_name": "Python 3 (ipykernel)",
   "language": "python",
   "name": "python3"
  },
  "language_info": {
   "codemirror_mode": {
    "name": "ipython",
    "version": 3
   },
   "file_extension": ".py",
   "mimetype": "text/x-python",
   "name": "python",
   "nbconvert_exporter": "python",
   "pygments_lexer": "ipython3",
   "version": "3.11.2"
  }
 },
 "nbformat": 4,
 "nbformat_minor": 5
}
