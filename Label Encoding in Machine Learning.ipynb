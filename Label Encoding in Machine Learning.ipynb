{
 "cells": [
  {
   "cell_type": "code",
   "execution_count": 8,
   "id": "0bd562f7-60f6-4eb9-bd22-d6d26424058a",
   "metadata": {},
   "outputs": [],
   "source": [
    "classes=['classA','classB','classC','classD']\n",
    "instances=['classA','classB','classC','classD','classA','classB','classC','classD','classA','classB'];\n"
   ]
  },
  {
   "cell_type": "markdown",
   "id": "747623f1-2606-4688-8b68-72e394694fc8",
   "metadata": {},
   "source": [
    "# Sklearn - Label Encoder"
   ]
  },
  {
   "cell_type": "code",
   "execution_count": 6,
   "id": "a2be84fb-55f2-4f38-85f5-e3f93769574d",
   "metadata": {},
   "outputs": [],
   "source": [
    "from sklearn.preprocessing import LabelEncoder"
   ]
  },
  {
   "cell_type": "code",
   "execution_count": 9,
   "id": "04a91c37-7fdb-4e15-b5e8-1a644e027d3f",
   "metadata": {},
   "outputs": [
    {
     "name": "stdout",
     "output_type": "stream",
     "text": [
      "Encoded labels: [0 1 2 3 0 1 2 3 0 1]\n"
     ]
    }
   ],
   "source": [
    "label_encoder =LabelEncoder()\n",
    "encoded_labels = label_encoder.fit_transform(instances)\n",
    "print(\"Encoded labels:\",encoded_labels)"
   ]
  },
  {
   "cell_type": "code",
   "execution_count": 10,
   "id": "919a6314-f4d9-464d-9194-e08ff81ca7bc",
   "metadata": {},
   "outputs": [
    {
     "name": "stdout",
     "output_type": "stream",
     "text": [
      "Encoded Labels:  [0 1 2 3 0 1 2 3 0 1]\n",
      "Original labels:  ['classA' 'classB' 'classC' 'classD' 'classA' 'classB' 'classC' 'classD'\n",
      " 'classA' 'classB']\n"
     ]
    }
   ],
   "source": [
    "original_labels =label_encoder.inverse_transform(encoded_labels)\n",
    "print('Encoded Labels: ', encoded_labels)\n",
    "print('Original labels: ', original_labels)"
   ]
  }
 ],
 "metadata": {
  "kernelspec": {
   "display_name": "Python 3 (ipykernel)",
   "language": "python",
   "name": "python3"
  },
  "language_info": {
   "codemirror_mode": {
    "name": "ipython",
    "version": 3
   },
   "file_extension": ".py",
   "mimetype": "text/x-python",
   "name": "python",
   "nbconvert_exporter": "python",
   "pygments_lexer": "ipython3",
   "version": "3.11.2"
  }
 },
 "nbformat": 4,
 "nbformat_minor": 5
}
